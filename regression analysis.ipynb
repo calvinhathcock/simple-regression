{
 "cells": [
  {
   "cell_type": "code",
   "execution_count": 1,
   "id": "cb71a116-ec8c-4d75-9861-c91eaa10083b",
   "metadata": {},
   "outputs": [],
   "source": [
    "import pandas as pd"
   ]
  },
  {
   "cell_type": "markdown",
   "id": "e84e76ed-fb64-41ee-843e-cf312d99bd51",
   "metadata": {},
   "source": [
    "### Import Data"
   ]
  },
  {
   "cell_type": "code",
   "execution_count": 2,
   "id": "8769e923-9d8e-4008-8fd9-a4c796d716dc",
   "metadata": {},
   "outputs": [],
   "source": [
    "df = pd.read_csv('cost_of_living.csv', names = ['id', 'country', 'cost_index', 'monthly_income', 'purchasing_power_index'])"
   ]
  },
  {
   "cell_type": "code",
   "execution_count": 3,
   "id": "1ed51350-3a89-459d-8e3c-49ac05e80803",
   "metadata": {},
   "outputs": [
    {
     "data": {
      "text/html": [
       "<div>\n",
       "<style scoped>\n",
       "    .dataframe tbody tr th:only-of-type {\n",
       "        vertical-align: middle;\n",
       "    }\n",
       "\n",
       "    .dataframe tbody tr th {\n",
       "        vertical-align: top;\n",
       "    }\n",
       "\n",
       "    .dataframe thead th {\n",
       "        text-align: right;\n",
       "    }\n",
       "</style>\n",
       "<table border=\"1\" class=\"dataframe\">\n",
       "  <thead>\n",
       "    <tr style=\"text-align: right;\">\n",
       "      <th></th>\n",
       "      <th>id</th>\n",
       "      <th>country</th>\n",
       "      <th>cost_index</th>\n",
       "      <th>monthly_income</th>\n",
       "      <th>purchasing_power_index</th>\n",
       "    </tr>\n",
       "  </thead>\n",
       "  <tbody>\n",
       "    <tr>\n",
       "      <th>0</th>\n",
       "      <td>1</td>\n",
       "      <td>Bermuda</td>\n",
       "      <td>157.5</td>\n",
       "      <td>9,812 USD</td>\n",
       "      <td>115.8</td>\n",
       "    </tr>\n",
       "    <tr>\n",
       "      <th>1</th>\n",
       "      <td>2</td>\n",
       "      <td>Switzerland</td>\n",
       "      <td>142.9</td>\n",
       "      <td>7,026 USD</td>\n",
       "      <td>91.4</td>\n",
       "    </tr>\n",
       "    <tr>\n",
       "      <th>2</th>\n",
       "      <td>3</td>\n",
       "      <td>Cayman Islands</td>\n",
       "      <td>138.0</td>\n",
       "      <td>5,683 USD</td>\n",
       "      <td>76.6</td>\n",
       "    </tr>\n",
       "    <tr>\n",
       "      <th>3</th>\n",
       "      <td>4</td>\n",
       "      <td>Turks and Caicos Islands</td>\n",
       "      <td>124.6</td>\n",
       "      <td>2,558 USD</td>\n",
       "      <td>38.2</td>\n",
       "    </tr>\n",
       "    <tr>\n",
       "      <th>4</th>\n",
       "      <td>5</td>\n",
       "      <td>Barbados</td>\n",
       "      <td>121.6</td>\n",
       "      <td>1,205 USD</td>\n",
       "      <td>18.4</td>\n",
       "    </tr>\n",
       "    <tr>\n",
       "      <th>...</th>\n",
       "      <td>...</td>\n",
       "      <td>...</td>\n",
       "      <td>...</td>\n",
       "      <td>...</td>\n",
       "      <td>...</td>\n",
       "    </tr>\n",
       "    <tr>\n",
       "      <th>105</th>\n",
       "      <td>106</td>\n",
       "      <td>Egypt</td>\n",
       "      <td>26.8</td>\n",
       "      <td>250 USD</td>\n",
       "      <td>17.4</td>\n",
       "    </tr>\n",
       "    <tr>\n",
       "      <th>106</th>\n",
       "      <td>107</td>\n",
       "      <td>Kyrgyzstan</td>\n",
       "      <td>25.8</td>\n",
       "      <td>97 USD</td>\n",
       "      <td>7.0</td>\n",
       "    </tr>\n",
       "    <tr>\n",
       "      <th>107</th>\n",
       "      <td>108</td>\n",
       "      <td>Tajikistan</td>\n",
       "      <td>25.1</td>\n",
       "      <td>88 USD</td>\n",
       "      <td>6.5</td>\n",
       "    </tr>\n",
       "    <tr>\n",
       "      <th>108</th>\n",
       "      <td>109</td>\n",
       "      <td>Pakistan</td>\n",
       "      <td>24.8</td>\n",
       "      <td>107 USD</td>\n",
       "      <td>8.0</td>\n",
       "    </tr>\n",
       "    <tr>\n",
       "      <th>109</th>\n",
       "      <td>110</td>\n",
       "      <td>Angola</td>\n",
       "      <td>24.8</td>\n",
       "      <td>186 USD</td>\n",
       "      <td>13.9</td>\n",
       "    </tr>\n",
       "  </tbody>\n",
       "</table>\n",
       "<p>110 rows × 5 columns</p>\n",
       "</div>"
      ],
      "text/plain": [
       "      id                   country  cost_index monthly_income  \\\n",
       "0      1                   Bermuda       157.5      9,812 USD   \n",
       "1      2               Switzerland       142.9      7,026 USD   \n",
       "2      3            Cayman Islands       138.0      5,683 USD   \n",
       "3      4  Turks and Caicos Islands       124.6      2,558 USD   \n",
       "4      5                  Barbados       121.6      1,205 USD   \n",
       "..   ...                       ...         ...            ...   \n",
       "105  106                     Egypt        26.8        250 USD   \n",
       "106  107                Kyrgyzstan        25.8         97 USD   \n",
       "107  108                Tajikistan        25.1         88 USD   \n",
       "108  109                  Pakistan        24.8        107 USD   \n",
       "109  110                    Angola        24.8        186 USD   \n",
       "\n",
       "     purchasing_power_index  \n",
       "0                     115.8  \n",
       "1                      91.4  \n",
       "2                      76.6  \n",
       "3                      38.2  \n",
       "4                      18.4  \n",
       "..                      ...  \n",
       "105                    17.4  \n",
       "106                     7.0  \n",
       "107                     6.5  \n",
       "108                     8.0  \n",
       "109                    13.9  \n",
       "\n",
       "[110 rows x 5 columns]"
      ]
     },
     "execution_count": 3,
     "metadata": {},
     "output_type": "execute_result"
    }
   ],
   "source": [
    "df"
   ]
  },
  {
   "cell_type": "markdown",
   "id": "77f5fead-3fd8-44f2-9525-49aa0a91e332",
   "metadata": {},
   "source": [
    "For the purposes of regression, the country field will be dropped, purchasing_power_index and monthly_income will be our indepedent variables (X) and cost_index will be our depedent variable (y). Id field will also be dropped since it is nothing more than an index."
   ]
  },
  {
   "cell_type": "markdown",
   "id": "2a8cc002-286b-4ca7-89d5-1f431798ac02",
   "metadata": {},
   "source": [
    "### some data cleaning"
   ]
  },
  {
   "cell_type": "code",
   "execution_count": 4,
   "id": "61845038-57c3-4a99-91ba-7c291835ef49",
   "metadata": {},
   "outputs": [],
   "source": [
    "df.drop(columns = ['id', 'country'], inplace = True)"
   ]
  },
  {
   "cell_type": "code",
   "execution_count": 5,
   "id": "78b3527f-16c3-4474-af89-8959c5e0dfac",
   "metadata": {},
   "outputs": [
    {
     "data": {
      "text/html": [
       "<div>\n",
       "<style scoped>\n",
       "    .dataframe tbody tr th:only-of-type {\n",
       "        vertical-align: middle;\n",
       "    }\n",
       "\n",
       "    .dataframe tbody tr th {\n",
       "        vertical-align: top;\n",
       "    }\n",
       "\n",
       "    .dataframe thead th {\n",
       "        text-align: right;\n",
       "    }\n",
       "</style>\n",
       "<table border=\"1\" class=\"dataframe\">\n",
       "  <thead>\n",
       "    <tr style=\"text-align: right;\">\n",
       "      <th></th>\n",
       "      <th>cost_index</th>\n",
       "      <th>monthly_income</th>\n",
       "      <th>purchasing_power_index</th>\n",
       "    </tr>\n",
       "  </thead>\n",
       "  <tbody>\n",
       "    <tr>\n",
       "      <th>0</th>\n",
       "      <td>157.5</td>\n",
       "      <td>9,812 USD</td>\n",
       "      <td>115.8</td>\n",
       "    </tr>\n",
       "    <tr>\n",
       "      <th>1</th>\n",
       "      <td>142.9</td>\n",
       "      <td>7,026 USD</td>\n",
       "      <td>91.4</td>\n",
       "    </tr>\n",
       "    <tr>\n",
       "      <th>2</th>\n",
       "      <td>138.0</td>\n",
       "      <td>5,683 USD</td>\n",
       "      <td>76.6</td>\n",
       "    </tr>\n",
       "    <tr>\n",
       "      <th>3</th>\n",
       "      <td>124.6</td>\n",
       "      <td>2,558 USD</td>\n",
       "      <td>38.2</td>\n",
       "    </tr>\n",
       "    <tr>\n",
       "      <th>4</th>\n",
       "      <td>121.6</td>\n",
       "      <td>1,205 USD</td>\n",
       "      <td>18.4</td>\n",
       "    </tr>\n",
       "    <tr>\n",
       "      <th>...</th>\n",
       "      <td>...</td>\n",
       "      <td>...</td>\n",
       "      <td>...</td>\n",
       "    </tr>\n",
       "    <tr>\n",
       "      <th>105</th>\n",
       "      <td>26.8</td>\n",
       "      <td>250 USD</td>\n",
       "      <td>17.4</td>\n",
       "    </tr>\n",
       "    <tr>\n",
       "      <th>106</th>\n",
       "      <td>25.8</td>\n",
       "      <td>97 USD</td>\n",
       "      <td>7.0</td>\n",
       "    </tr>\n",
       "    <tr>\n",
       "      <th>107</th>\n",
       "      <td>25.1</td>\n",
       "      <td>88 USD</td>\n",
       "      <td>6.5</td>\n",
       "    </tr>\n",
       "    <tr>\n",
       "      <th>108</th>\n",
       "      <td>24.8</td>\n",
       "      <td>107 USD</td>\n",
       "      <td>8.0</td>\n",
       "    </tr>\n",
       "    <tr>\n",
       "      <th>109</th>\n",
       "      <td>24.8</td>\n",
       "      <td>186 USD</td>\n",
       "      <td>13.9</td>\n",
       "    </tr>\n",
       "  </tbody>\n",
       "</table>\n",
       "<p>110 rows × 3 columns</p>\n",
       "</div>"
      ],
      "text/plain": [
       "     cost_index monthly_income  purchasing_power_index\n",
       "0         157.5      9,812 USD                   115.8\n",
       "1         142.9      7,026 USD                    91.4\n",
       "2         138.0      5,683 USD                    76.6\n",
       "3         124.6      2,558 USD                    38.2\n",
       "4         121.6      1,205 USD                    18.4\n",
       "..          ...            ...                     ...\n",
       "105        26.8        250 USD                    17.4\n",
       "106        25.8         97 USD                     7.0\n",
       "107        25.1         88 USD                     6.5\n",
       "108        24.8        107 USD                     8.0\n",
       "109        24.8        186 USD                    13.9\n",
       "\n",
       "[110 rows x 3 columns]"
      ]
     },
     "execution_count": 5,
     "metadata": {},
     "output_type": "execute_result"
    }
   ],
   "source": [
    "df"
   ]
  },
  {
   "cell_type": "code",
   "execution_count": 6,
   "id": "d05e749f-c76e-4047-9fbf-67faf8013244",
   "metadata": {
    "tags": []
   },
   "outputs": [],
   "source": [
    "def clean_str(string):\n",
    "    string = string[:len(string)-4]\n",
    "    string = string.replace(',','')\n",
    "    return string"
   ]
  },
  {
   "cell_type": "code",
   "execution_count": 7,
   "id": "54ecb8f4-59f1-40b1-be6c-8a31985f43fd",
   "metadata": {
    "tags": []
   },
   "outputs": [],
   "source": [
    "df.monthly_income = df.monthly_income.apply(clean_str)\n",
    "df.monthly_income = df.monthly_income.astype('int')"
   ]
  },
  {
   "cell_type": "code",
   "execution_count": 13,
   "id": "def89d1a-0fc6-49d1-a735-974336c968dd",
   "metadata": {},
   "outputs": [
    {
     "data": {
      "text/html": [
       "<div>\n",
       "<style scoped>\n",
       "    .dataframe tbody tr th:only-of-type {\n",
       "        vertical-align: middle;\n",
       "    }\n",
       "\n",
       "    .dataframe tbody tr th {\n",
       "        vertical-align: top;\n",
       "    }\n",
       "\n",
       "    .dataframe thead th {\n",
       "        text-align: right;\n",
       "    }\n",
       "</style>\n",
       "<table border=\"1\" class=\"dataframe\">\n",
       "  <thead>\n",
       "    <tr style=\"text-align: right;\">\n",
       "      <th></th>\n",
       "      <th>cost_index</th>\n",
       "      <th>monthly_income</th>\n",
       "      <th>purchasing_power_index</th>\n",
       "    </tr>\n",
       "  </thead>\n",
       "  <tbody>\n",
       "    <tr>\n",
       "      <th>0</th>\n",
       "      <td>157.5</td>\n",
       "      <td>9812</td>\n",
       "      <td>115.8</td>\n",
       "    </tr>\n",
       "    <tr>\n",
       "      <th>1</th>\n",
       "      <td>142.9</td>\n",
       "      <td>7026</td>\n",
       "      <td>91.4</td>\n",
       "    </tr>\n",
       "    <tr>\n",
       "      <th>2</th>\n",
       "      <td>138.0</td>\n",
       "      <td>5683</td>\n",
       "      <td>76.6</td>\n",
       "    </tr>\n",
       "    <tr>\n",
       "      <th>3</th>\n",
       "      <td>124.6</td>\n",
       "      <td>2558</td>\n",
       "      <td>38.2</td>\n",
       "    </tr>\n",
       "    <tr>\n",
       "      <th>4</th>\n",
       "      <td>121.6</td>\n",
       "      <td>1205</td>\n",
       "      <td>18.4</td>\n",
       "    </tr>\n",
       "    <tr>\n",
       "      <th>...</th>\n",
       "      <td>...</td>\n",
       "      <td>...</td>\n",
       "      <td>...</td>\n",
       "    </tr>\n",
       "    <tr>\n",
       "      <th>105</th>\n",
       "      <td>26.8</td>\n",
       "      <td>250</td>\n",
       "      <td>17.4</td>\n",
       "    </tr>\n",
       "    <tr>\n",
       "      <th>106</th>\n",
       "      <td>25.8</td>\n",
       "      <td>97</td>\n",
       "      <td>7.0</td>\n",
       "    </tr>\n",
       "    <tr>\n",
       "      <th>107</th>\n",
       "      <td>25.1</td>\n",
       "      <td>88</td>\n",
       "      <td>6.5</td>\n",
       "    </tr>\n",
       "    <tr>\n",
       "      <th>108</th>\n",
       "      <td>24.8</td>\n",
       "      <td>107</td>\n",
       "      <td>8.0</td>\n",
       "    </tr>\n",
       "    <tr>\n",
       "      <th>109</th>\n",
       "      <td>24.8</td>\n",
       "      <td>186</td>\n",
       "      <td>13.9</td>\n",
       "    </tr>\n",
       "  </tbody>\n",
       "</table>\n",
       "<p>110 rows × 3 columns</p>\n",
       "</div>"
      ],
      "text/plain": [
       "     cost_index  monthly_income  purchasing_power_index\n",
       "0         157.5            9812                   115.8\n",
       "1         142.9            7026                    91.4\n",
       "2         138.0            5683                    76.6\n",
       "3         124.6            2558                    38.2\n",
       "4         121.6            1205                    18.4\n",
       "..          ...             ...                     ...\n",
       "105        26.8             250                    17.4\n",
       "106        25.8              97                     7.0\n",
       "107        25.1              88                     6.5\n",
       "108        24.8             107                     8.0\n",
       "109        24.8             186                    13.9\n",
       "\n",
       "[110 rows x 3 columns]"
      ]
     },
     "execution_count": 13,
     "metadata": {},
     "output_type": "execute_result"
    }
   ],
   "source": [
    "df"
   ]
  },
  {
   "cell_type": "code",
   "execution_count": 9,
   "id": "28be8183-8a0a-4283-8288-7e791e1b2f4b",
   "metadata": {},
   "outputs": [
    {
     "data": {
      "text/plain": [
       "cost_index                float64\n",
       "monthly_income              int64\n",
       "purchasing_power_index    float64\n",
       "dtype: object"
      ]
     },
     "execution_count": 9,
     "metadata": {},
     "output_type": "execute_result"
    }
   ],
   "source": [
    "df.dtypes"
   ]
  },
  {
   "cell_type": "markdown",
   "id": "1332e76c-8d93-40a1-a443-4c04649e991c",
   "metadata": {},
   "source": [
    "Since we are not doing multiple linear regression, I will create two models, one for each variable"
   ]
  },
  {
   "cell_type": "code",
   "execution_count": 84,
   "id": "d9699c50-ad39-4ec5-9256-593386586904",
   "metadata": {},
   "outputs": [],
   "source": [
    "#separate independent and dependent variables\n",
    "y = df.cost_index\n",
    "X = df.drop(columns = 'cost_index')"
   ]
  },
  {
   "cell_type": "markdown",
   "id": "8c07cff9-782b-44ea-be77-d23e5644a341",
   "metadata": {},
   "source": [
    "### Descriptive Statistics"
   ]
  },
  {
   "cell_type": "code",
   "execution_count": 26,
   "id": "e9b5cef0-670b-47e4-9b63-96feb532f79f",
   "metadata": {},
   "outputs": [],
   "source": [
    "import matplotlib.pyplot as plt\n",
    "import seaborn as sns"
   ]
  },
  {
   "cell_type": "code",
   "execution_count": 19,
   "id": "85436a43-df91-4cf2-b297-c1a98f1eed56",
   "metadata": {},
   "outputs": [
    {
     "data": {
      "text/html": [
       "<div>\n",
       "<style scoped>\n",
       "    .dataframe tbody tr th:only-of-type {\n",
       "        vertical-align: middle;\n",
       "    }\n",
       "\n",
       "    .dataframe tbody tr th {\n",
       "        vertical-align: top;\n",
       "    }\n",
       "\n",
       "    .dataframe thead th {\n",
       "        text-align: right;\n",
       "    }\n",
       "</style>\n",
       "<table border=\"1\" class=\"dataframe\">\n",
       "  <thead>\n",
       "    <tr style=\"text-align: right;\">\n",
       "      <th></th>\n",
       "      <th>cost_index</th>\n",
       "      <th>monthly_income</th>\n",
       "      <th>purchasing_power_index</th>\n",
       "    </tr>\n",
       "  </thead>\n",
       "  <tbody>\n",
       "    <tr>\n",
       "      <th>count</th>\n",
       "      <td>110.000000</td>\n",
       "      <td>110.000000</td>\n",
       "      <td>110.000000</td>\n",
       "    </tr>\n",
       "    <tr>\n",
       "      <th>mean</th>\n",
       "      <td>61.029091</td>\n",
       "      <td>1685.809091</td>\n",
       "      <td>38.938182</td>\n",
       "    </tr>\n",
       "    <tr>\n",
       "      <th>std</th>\n",
       "      <td>32.284897</td>\n",
       "      <td>2006.146951</td>\n",
       "      <td>32.844415</td>\n",
       "    </tr>\n",
       "    <tr>\n",
       "      <th>min</th>\n",
       "      <td>24.800000</td>\n",
       "      <td>88.000000</td>\n",
       "      <td>5.400000</td>\n",
       "    </tr>\n",
       "    <tr>\n",
       "      <th>25%</th>\n",
       "      <td>36.950000</td>\n",
       "      <td>288.250000</td>\n",
       "      <td>15.350000</td>\n",
       "    </tr>\n",
       "    <tr>\n",
       "      <th>50%</th>\n",
       "      <td>46.350000</td>\n",
       "      <td>635.500000</td>\n",
       "      <td>24.500000</td>\n",
       "    </tr>\n",
       "    <tr>\n",
       "      <th>75%</th>\n",
       "      <td>82.700000</td>\n",
       "      <td>2952.500000</td>\n",
       "      <td>59.750000</td>\n",
       "    </tr>\n",
       "    <tr>\n",
       "      <th>max</th>\n",
       "      <td>157.500000</td>\n",
       "      <td>9812.000000</td>\n",
       "      <td>156.700000</td>\n",
       "    </tr>\n",
       "  </tbody>\n",
       "</table>\n",
       "</div>"
      ],
      "text/plain": [
       "       cost_index  monthly_income  purchasing_power_index\n",
       "count  110.000000      110.000000              110.000000\n",
       "mean    61.029091     1685.809091               38.938182\n",
       "std     32.284897     2006.146951               32.844415\n",
       "min     24.800000       88.000000                5.400000\n",
       "25%     36.950000      288.250000               15.350000\n",
       "50%     46.350000      635.500000               24.500000\n",
       "75%     82.700000     2952.500000               59.750000\n",
       "max    157.500000     9812.000000              156.700000"
      ]
     },
     "execution_count": 19,
     "metadata": {},
     "output_type": "execute_result"
    }
   ],
   "source": [
    "df.describe()"
   ]
  },
  {
   "cell_type": "code",
   "execution_count": 22,
   "id": "7557a298-b7be-439a-a1d4-9a85aff14ec3",
   "metadata": {},
   "outputs": [
    {
     "data": {
      "text/plain": [
       "[Text(0.5, 1.0, 'Cost Index Histogram')]"
      ]
     },
     "execution_count": 22,
     "metadata": {},
     "output_type": "execute_result"
    },
    {
     "data": {
      "image/png": "[encoded data removed]",
      "text/plain": [
       "<Figure size 432x288 with 1 Axes>"
      ]
     },
     "metadata": {
      "needs_background": "light"
     },
     "output_type": "display_data"
    }
   ],
   "source": [
    "sns.histplot(data = df.cost_index).set(title = 'Cost Index Histogram')"
   ]
  },
  {
   "cell_type": "code",
   "execution_count": 23,
   "id": "8968f559-5332-40bb-8588-6a595e92ce20",
   "metadata": {},
   "outputs": [
    {
     "data": {
      "text/plain": [
       "[Text(0.5, 1.0, 'Monthly Income Histogram')]"
      ]
     },
     "execution_count": 23,
     "metadata": {},
     "output_type": "execute_result"
    },
    {
     "data": {
      "image/png": "[encoded data removed]",
      "text/plain": [
       "<Figure size 432x288 with 1 Axes>"
      ]
     },
     "metadata": {
      "needs_background": "light"
     },
     "output_type": "display_data"
    }
   ],
   "source": [
    "sns.histplot(data = df.monthly_income).set(title = 'Monthly Income Histogram')"
   ]
  },
  {
   "cell_type": "code",
   "execution_count": 24,
   "id": "9d4a715a-d24f-4754-8e5b-5daab59a1d62",
   "metadata": {},
   "outputs": [
    {
     "data": {
      "text/plain": [
       "[Text(0.5, 1.0, 'Purchasing Power Histrogram')]"
      ]
     },
     "execution_count": 24,
     "metadata": {},
     "output_type": "execute_result"
    },
    {
     "data": {
      "image/png": "[encoded data removed]",
      "text/plain": [
       "<Figure size 432x288 with 1 Axes>"
      ]
     },
     "metadata": {
      "needs_background": "light"
     },
     "output_type": "display_data"
    }
   ],
   "source": [
    "sns.histplot(data = df.purchasing_power_index).set(title = 'Purchasing Power Histrogram')"
   ]
  },
  {
   "cell_type": "markdown",
   "id": "288494bf-c38f-4790-b3a2-ae69039a6a4c",
   "metadata": {},
   "source": [
    "As we can see, all of the data has a leftward skew and is not normal. "
   ]
  },
  {
   "cell_type": "code",
   "execution_count": 31,
   "id": "d97a6449-e02e-4f4d-a5d8-7ea607728050",
   "metadata": {},
   "outputs": [
    {
     "data": {
      "image/png": "[encoded data removed]",
      "text/plain": [
       "<Figure size 432x288 with 1 Axes>"
      ]
     },
     "metadata": {
      "needs_background": "light"
     },
     "output_type": "display_data"
    }
   ],
   "source": [
    "#3d scatter plot of the data\n",
    "fig = plt.figure()\n",
    "ax = fig.add_subplot(projection = '3d')\n",
    "\n",
    "ax.scatter(\n",
    "    df.cost_index,\n",
    "    df.monthly_income,\n",
    "    df.purchasing_power_index\n",
    ")\n",
    "\n",
    "ax.set_xlabel('Cost Index')\n",
    "ax.set_ylabel('Monthly Income')\n",
    "ax.set_zlabel('Purchasing Power Index')\n",
    "\n",
    "plt.savefig('3d_scatter.png', dpi=1200)\n",
    "\n",
    "plt.show()"
   ]
  },
  {
   "cell_type": "code",
   "execution_count": 86,
   "id": "4b1bb3d9-c7a0-464c-b0d4-80bab217cd93",
   "metadata": {},
   "outputs": [
    {
     "data": {
      "text/plain": [
       "[Text(0.5, 1.0, 'Cost Index vs Monthly Income')]"
      ]
     },
     "execution_count": 86,
     "metadata": {},
     "output_type": "execute_result"
    },
    {
     "data": {
      "image/png": "[encoded data removed]",
      "text/plain": [
       "<Figure size 640x480 with 1 Axes>"
      ]
     },
     "metadata": {},
     "output_type": "display_data"
    }
   ],
   "source": [
    "sns.scatterplot(x = X.monthly_income, y = y).set(title = 'Cost Index vs Monthly Income')"
   ]
  },
  {
   "cell_type": "code",
   "execution_count": 85,
   "id": "f6834a6d-fb75-4628-947d-f0585c23d3f4",
   "metadata": {},
   "outputs": [
    {
     "data": {
      "text/plain": [
       "[Text(0.5, 1.0, 'Cost Index vs Purchasing Power')]"
      ]
     },
     "execution_count": 85,
     "metadata": {},
     "output_type": "execute_result"
    },
    {
     "data": {
      "image/png": "[encoded data removed]",
      "text/plain": [
       "<Figure size 640x480 with 1 Axes>"
      ]
     },
     "metadata": {},
     "output_type": "display_data"
    }
   ],
   "source": [
    "sns.scatterplot(x = X.purchasing_power_index, y = y).set(title = 'Cost Index vs Purchasing Power')"
   ]
  },
  {
   "cell_type": "markdown",
   "id": "6233d552-52d9-472c-8a84-b09d77d2b449",
   "metadata": {},
   "source": [
    "### Implementing Regression"
   ]
  },
  {
   "cell_type": "code",
   "execution_count": 80,
   "id": "f4cce461-04b8-4737-a0da-c256be3c26b4",
   "metadata": {},
   "outputs": [],
   "source": [
    "from sklearn.model_selection import train_test_split\n",
    "from sklearn.linear_model import LinearRegression\n",
    "from sklearn.metrics import mean_squared_error, r2_score\n",
    "import numpy as np"
   ]
  },
  {
   "cell_type": "code",
   "execution_count": 88,
   "id": "95e08482-623d-45c2-84b4-1537d389df19",
   "metadata": {},
   "outputs": [],
   "source": [
    "regr = LinearRegression()\n",
    "X_train, X_test, y_train, y_test = train_test_split(X, y, test_size = .5)"
   ]
  },
  {
   "cell_type": "markdown",
   "id": "409f47b2-9f72-4e0a-a4ad-39d6384524e3",
   "metadata": {},
   "source": [
    "#### Monthly Income vs Cost Index "
   ]
  },
  {
   "cell_type": "code",
   "execution_count": 89,
   "id": "ea07ed5b-d08f-49e2-bf8b-229e704a0e29",
   "metadata": {},
   "outputs": [
    {
     "data": {
      "text/plain": [
       "LinearRegression()"
      ]
     },
     "execution_count": 89,
     "metadata": {},
     "output_type": "execute_result"
    }
   ],
   "source": [
    "regr.fit(X_train, y_train)"
   ]
  },
  {
   "cell_type": "code",
   "execution_count": 90,
   "id": "e1a5b1e7-4c83-4573-8cfa-6437e648e7b9",
   "metadata": {},
   "outputs": [],
   "source": [
    "pred = regr.predict(X_test)"
   ]
  },
  {
   "cell_type": "code",
   "execution_count": 91,
   "id": "12062867-f587-4cf9-aa26-6f86cc46073d",
   "metadata": {},
   "outputs": [
    {
     "name": "stdout",
     "output_type": "stream",
     "text": [
      "Coefficients: [ 0.02472268 -0.63723716]\n",
      "Mean squared error: 304.60\n",
      "Coefficient of determination: 0.74\n"
     ]
    }
   ],
   "source": [
    "# The coefficients\n",
    "print(\"Coefficients:\", regr.coef_)\n",
    "# The mean squared error\n",
    "print(\"Mean squared error: %.2f\" % mean_squared_error(y_test, pred))\n",
    "# The coefficient of determination: 1 is perfect prediction\n",
    "print(\"Coefficient of determination: %.2f\" % r2_score(y_test, pred))\n"
   ]
  },
  {
   "cell_type": "code",
   "execution_count": 92,
   "id": "a4684b36-d94f-4c1a-b411-4355cb309870",
   "metadata": {},
   "outputs": [
    {
     "data": {
      "text/plain": [
       "'\\ntodo\\n    make 3d plot with regression plane\\n'"
      ]
     },
     "execution_count": 92,
     "metadata": {},
     "output_type": "execute_result"
    }
   ],
   "source": [
    "'''\n",
    "todo\n",
    "    make 3d plot with regression plane\n",
    "'''"
   ]
  }
 ],
 "metadata": {
  "kernelspec": {
   "display_name": "Python 3 (ipykernel)",
   "language": "python",
   "name": "python3"
  },
  "language_info": {
   "codemirror_mode": {
    "name": "ipython",
    "version": 3
   },
   "file_extension": ".py",
   "mimetype": "text/x-python",
   "name": "python",
   "nbconvert_exporter": "python",
   "pygments_lexer": "ipython3",
   "version": "3.9.5"
  }
 },
 "nbformat": 4,
 "nbformat_minor": 5
}
